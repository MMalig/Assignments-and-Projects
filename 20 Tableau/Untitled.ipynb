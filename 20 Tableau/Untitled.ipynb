{
 "cells": [
  {
   "cell_type": "code",
   "execution_count": 1,
   "metadata": {},
   "outputs": [],
   "source": [
    "import pandas as pd"
   ]
  },
  {
   "cell_type": "code",
   "execution_count": 20,
   "metadata": {
    "scrolled": true
   },
   "outputs": [
    {
     "name": "stdout",
     "output_type": "stream",
     "text": [
      "<class 'pandas.core.frame.DataFrame'>\n",
      "RangeIndex: 19676 entries, 0 to 19675\n",
      "Data columns (total 16 columns):\n",
      "Month                      19676 non-null object\n",
      "tripduration               19676 non-null int64\n",
      "starttime                  19676 non-null object\n",
      "stoptime                   19676 non-null object\n",
      "start station id           19676 non-null int64\n",
      "start station name         19676 non-null object\n",
      "start station latitude     19676 non-null float64\n",
      "start station longitude    19676 non-null float64\n",
      "end station id             19676 non-null int64\n",
      "end station name           19676 non-null object\n",
      "end station latitude       19676 non-null float64\n",
      "end station longitude      19676 non-null float64\n",
      "bikeid                     19676 non-null int64\n",
      "usertype                   19676 non-null object\n",
      "birth year                 19676 non-null int64\n",
      "gender                     19676 non-null int64\n",
      "dtypes: float64(4), int64(6), object(6)\n",
      "memory usage: 2.4+ MB\n"
     ]
    }
   ],
   "source": [
    "file1 = \"JC-201901-citibike-tripdata.csv\"\n",
    "df1 = pd.read_csv(file1)\n",
    "df1.info()"
   ]
  },
  {
   "cell_type": "code",
   "execution_count": 21,
   "metadata": {},
   "outputs": [
    {
     "name": "stdout",
     "output_type": "stream",
     "text": [
      "<class 'pandas.core.frame.DataFrame'>\n",
      "RangeIndex: 18565 entries, 0 to 18564\n",
      "Data columns (total 16 columns):\n",
      "Month                      18565 non-null object\n",
      "tripduration               18565 non-null int64\n",
      "starttime                  18565 non-null object\n",
      "stoptime                   18565 non-null object\n",
      "start station id           18565 non-null int64\n",
      "start station name         18565 non-null object\n",
      "start station latitude     18565 non-null float64\n",
      "start station longitude    18565 non-null float64\n",
      "end station id             18565 non-null int64\n",
      "end station name           18565 non-null object\n",
      "end station latitude       18565 non-null float64\n",
      "end station longitude      18565 non-null float64\n",
      "bikeid                     18565 non-null int64\n",
      "usertype                   18565 non-null object\n",
      "birth year                 18565 non-null int64\n",
      "gender                     18565 non-null int64\n",
      "dtypes: float64(4), int64(6), object(6)\n",
      "memory usage: 2.3+ MB\n"
     ]
    }
   ],
   "source": [
    "file2 = \"JC-201902-citibike-tripdata.csv\"\n",
    "df2 = pd.read_csv(file2)\n",
    "df2.info()"
   ]
  },
  {
   "cell_type": "code",
   "execution_count": 25,
   "metadata": {},
   "outputs": [
    {
     "name": "stdout",
     "output_type": "stream",
     "text": [
      "<class 'pandas.core.frame.DataFrame'>\n",
      "RangeIndex: 23606 entries, 0 to 23605\n",
      "Data columns (total 16 columns):\n",
      "Month                      23606 non-null object\n",
      "tripduration               23606 non-null int64\n",
      "starttime                  23606 non-null object\n",
      "stoptime                   23606 non-null object\n",
      "start station id           23606 non-null int64\n",
      "start station name         23606 non-null object\n",
      "start station latitude     23606 non-null float64\n",
      "start station longitude    23606 non-null float64\n",
      "end station id             23606 non-null int64\n",
      "end station name           23606 non-null object\n",
      "end station latitude       23606 non-null float64\n",
      "end station longitude      23606 non-null float64\n",
      "bikeid                     23606 non-null int64\n",
      "usertype                   23606 non-null object\n",
      "birth year                 23606 non-null int64\n",
      "gender                     23606 non-null int64\n",
      "dtypes: float64(4), int64(6), object(6)\n",
      "memory usage: 2.9+ MB\n"
     ]
    }
   ],
   "source": [
    "file3 = \"JC-201903-citibike-tripdata.csv\"\n",
    "df3 = pd.read_csv(file3)\n",
    "df3.info()"
   ]
  },
  {
   "cell_type": "code",
   "execution_count": 22,
   "metadata": {},
   "outputs": [
    {
     "name": "stdout",
     "output_type": "stream",
     "text": [
      "<class 'pandas.core.frame.DataFrame'>\n",
      "RangeIndex: 33056 entries, 0 to 33055\n",
      "Data columns (total 16 columns):\n",
      "Month                      33056 non-null object\n",
      "tripduration               33056 non-null int64\n",
      "starttime                  33056 non-null object\n",
      "stoptime                   33056 non-null object\n",
      "start station id           33056 non-null int64\n",
      "start station name         33056 non-null object\n",
      "start station latitude     33056 non-null float64\n",
      "start station longitude    33056 non-null float64\n",
      "end station id             33056 non-null int64\n",
      "end station name           33056 non-null object\n",
      "end station latitude       33056 non-null float64\n",
      "end station longitude      33056 non-null float64\n",
      "bikeid                     33056 non-null int64\n",
      "usertype                   33056 non-null object\n",
      "birth year                 33056 non-null int64\n",
      "gender                     33056 non-null int64\n",
      "dtypes: float64(4), int64(6), object(6)\n",
      "memory usage: 4.0+ MB\n"
     ]
    }
   ],
   "source": [
    "file4 = \"JC-201904-citibike-tripdata.csv\"\n",
    "df4 = pd.read_csv(file4)\n",
    "df4.info()"
   ]
  },
  {
   "cell_type": "code",
   "execution_count": 23,
   "metadata": {},
   "outputs": [
    {
     "name": "stdout",
     "output_type": "stream",
     "text": [
      "<class 'pandas.core.frame.DataFrame'>\n",
      "RangeIndex: 36135 entries, 0 to 36134\n",
      "Data columns (total 16 columns):\n",
      "Month                      36135 non-null object\n",
      "tripduration               36135 non-null int64\n",
      "starttime                  36135 non-null object\n",
      "stoptime                   36135 non-null object\n",
      "start station id           36135 non-null int64\n",
      "start station name         36135 non-null object\n",
      "start station latitude     36135 non-null float64\n",
      "start station longitude    36135 non-null float64\n",
      "end station id             36135 non-null int64\n",
      "end station name           36135 non-null object\n",
      "end station latitude       36135 non-null float64\n",
      "end station longitude      36135 non-null float64\n",
      "bikeid                     36135 non-null int64\n",
      "usertype                   36135 non-null object\n",
      "birth year                 36135 non-null int64\n",
      "gender                     36135 non-null int64\n",
      "dtypes: float64(4), int64(6), object(6)\n",
      "memory usage: 4.4+ MB\n"
     ]
    }
   ],
   "source": [
    "file5 = \"JC-201905-citibike-tripdata.csv\"\n",
    "df5 = pd.read_csv(file5)\n",
    "df5.info()"
   ]
  },
  {
   "cell_type": "code",
   "execution_count": 26,
   "metadata": {},
   "outputs": [
    {
     "name": "stdout",
     "output_type": "stream",
     "text": [
      "<class 'pandas.core.frame.DataFrame'>\n",
      "RangeIndex: 39430 entries, 0 to 39429\n",
      "Data columns (total 16 columns):\n",
      "Month                      39430 non-null object\n",
      "tripduration               39430 non-null int64\n",
      "starttime                  39430 non-null object\n",
      "stoptime                   39430 non-null object\n",
      "start station id           39430 non-null int64\n",
      "start station name         39430 non-null object\n",
      "start station latitude     39430 non-null float64\n",
      "start station longitude    39430 non-null float64\n",
      "end station id             39430 non-null int64\n",
      "end station name           39430 non-null object\n",
      "end station latitude       39430 non-null float64\n",
      "end station longitude      39430 non-null float64\n",
      "bikeid                     39430 non-null int64\n",
      "usertype                   39430 non-null object\n",
      "birth year                 39430 non-null int64\n",
      "gender                     39430 non-null int64\n",
      "dtypes: float64(4), int64(6), object(6)\n",
      "memory usage: 4.8+ MB\n"
     ]
    }
   ],
   "source": [
    "file6 = \"JC-201906-citibike-tripdata.csv\"\n",
    "df6 = pd.read_csv(file6)\n",
    "df6.info()"
   ]
  },
  {
   "cell_type": "code",
   "execution_count": 19,
   "metadata": {},
   "outputs": [
    {
     "name": "stdout",
     "output_type": "stream",
     "text": [
      "<class 'pandas.core.frame.DataFrame'>\n",
      "Int64Index: 170468 entries, 0 to 39429\n",
      "Data columns (total 16 columns):\n",
      "Month                      170468 non-null object\n",
      "tripduration               170468 non-null int64\n",
      "starttime                  170468 non-null object\n",
      "stoptime                   170468 non-null object\n",
      "start station id           170468 non-null int64\n",
      "start station name         170468 non-null object\n",
      "start station latitude     170468 non-null float64\n",
      "start station longitude    170468 non-null float64\n",
      "end station id             170468 non-null int64\n",
      "end station name           170468 non-null object\n",
      "end station latitude       170468 non-null float64\n",
      "end station longitude      170468 non-null float64\n",
      "bikeid                     170468 non-null int64\n",
      "usertype                   170468 non-null object\n",
      "birth year                 170468 non-null int64\n",
      "gender                     170468 non-null int64\n",
      "dtypes: float64(4), int64(6), object(6)\n",
      "memory usage: 22.1+ MB\n"
     ]
    }
   ],
   "source": [
    "frames = [df1, df2, df3, df4, df5, df6]\n",
    "df = pd.concat(frames)\n",
    "df.info()"
   ]
  },
  {
   "cell_type": "code",
   "execution_count": 27,
   "metadata": {},
   "outputs": [],
   "source": [
    "df.to_csv(\"2019_citibike_data.csv\")"
   ]
  },
  {
   "cell_type": "code",
   "execution_count": null,
   "metadata": {},
   "outputs": [],
   "source": []
  }
 ],
 "metadata": {
  "kernelspec": {
   "display_name": "Python 3",
   "language": "python",
   "name": "python3"
  },
  "language_info": {
   "codemirror_mode": {
    "name": "ipython",
    "version": 3
   },
   "file_extension": ".py",
   "mimetype": "text/x-python",
   "name": "python",
   "nbconvert_exporter": "python",
   "pygments_lexer": "ipython3",
   "version": "3.7.1"
  }
 },
 "nbformat": 4,
 "nbformat_minor": 2
}
